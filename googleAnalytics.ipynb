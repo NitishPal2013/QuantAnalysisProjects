{
 "cells": [
  {
   "cell_type": "markdown",
   "id": "c0693c24-88fb-4db6-aed8-c3e5d7249591",
   "metadata": {},
   "source": [
    "# Stock Price Predictor\n",
    "\n",
    "## Project Description\n",
    "It is a simple stock price prediction model using historical data of Stock X"
   ]
  },
  {
   "cell_type": "markdown",
   "id": "21bf6918-d057-4d34-b6dd-bb6498ea62af",
   "metadata": {},
   "source": [
    "### Objectives and Requirements:-\n",
    "1) Predicting the stock prices of a Company X\n",
    "2) Some useful APIs and websites has been used :-\n",
    "   * Yahoo Finanace"
   ]
  },
  {
   "cell_type": "code",
   "execution_count": 1,
   "id": "418a0ff5-7167-4d01-b131-c297d242d692",
   "metadata": {},
   "outputs": [],
   "source": [
    "import pandas as pd"
   ]
  },
  {
   "cell_type": "code",
   "execution_count": 2,
   "id": "9eb5a285-38e1-496a-9ef6-7aba76b8241a",
   "metadata": {},
   "outputs": [],
   "source": [
    "goog = pd.read_csv('./data/GOOG.csv')"
   ]
  },
  {
   "cell_type": "code",
   "execution_count": 3,
   "id": "0b30bca2-eeeb-43f8-95cd-71d4e0a1c4e9",
   "metadata": {},
   "outputs": [
    {
     "data": {
      "text/html": [
       "<div>\n",
       "<style scoped>\n",
       "    .dataframe tbody tr th:only-of-type {\n",
       "        vertical-align: middle;\n",
       "    }\n",
       "\n",
       "    .dataframe tbody tr th {\n",
       "        vertical-align: top;\n",
       "    }\n",
       "\n",
       "    .dataframe thead th {\n",
       "        text-align: right;\n",
       "    }\n",
       "</style>\n",
       "<table border=\"1\" class=\"dataframe\">\n",
       "  <thead>\n",
       "    <tr style=\"text-align: right;\">\n",
       "      <th></th>\n",
       "      <th>Date</th>\n",
       "      <th>Open</th>\n",
       "      <th>High</th>\n",
       "      <th>Low</th>\n",
       "      <th>Close</th>\n",
       "      <th>Adj Close</th>\n",
       "      <th>Volume</th>\n",
       "    </tr>\n",
       "  </thead>\n",
       "  <tbody>\n",
       "    <tr>\n",
       "      <th>0</th>\n",
       "      <td>2022-09-26</td>\n",
       "      <td>98.610001</td>\n",
       "      <td>100.440002</td>\n",
       "      <td>98.379997</td>\n",
       "      <td>98.809998</td>\n",
       "      <td>98.809998</td>\n",
       "      <td>22437900</td>\n",
       "    </tr>\n",
       "    <tr>\n",
       "      <th>1</th>\n",
       "      <td>2022-09-27</td>\n",
       "      <td>99.910004</td>\n",
       "      <td>100.459999</td>\n",
       "      <td>97.339996</td>\n",
       "      <td>98.089996</td>\n",
       "      <td>98.089996</td>\n",
       "      <td>24225000</td>\n",
       "    </tr>\n",
       "    <tr>\n",
       "      <th>2</th>\n",
       "      <td>2022-09-28</td>\n",
       "      <td>98.019997</td>\n",
       "      <td>101.400002</td>\n",
       "      <td>97.800003</td>\n",
       "      <td>100.739998</td>\n",
       "      <td>100.739998</td>\n",
       "      <td>24617000</td>\n",
       "    </tr>\n",
       "    <tr>\n",
       "      <th>3</th>\n",
       "      <td>2022-09-29</td>\n",
       "      <td>99.300003</td>\n",
       "      <td>99.300003</td>\n",
       "      <td>96.519997</td>\n",
       "      <td>98.089996</td>\n",
       "      <td>98.089996</td>\n",
       "      <td>21921500</td>\n",
       "    </tr>\n",
       "    <tr>\n",
       "      <th>4</th>\n",
       "      <td>2022-09-30</td>\n",
       "      <td>97.730003</td>\n",
       "      <td>99.494003</td>\n",
       "      <td>96.029999</td>\n",
       "      <td>96.150002</td>\n",
       "      <td>96.150002</td>\n",
       "      <td>26277800</td>\n",
       "    </tr>\n",
       "  </tbody>\n",
       "</table>\n",
       "</div>"
      ],
      "text/plain": [
       "         Date       Open        High        Low       Close   Adj Close  \\\n",
       "0  2022-09-26  98.610001  100.440002  98.379997   98.809998   98.809998   \n",
       "1  2022-09-27  99.910004  100.459999  97.339996   98.089996   98.089996   \n",
       "2  2022-09-28  98.019997  101.400002  97.800003  100.739998  100.739998   \n",
       "3  2022-09-29  99.300003   99.300003  96.519997   98.089996   98.089996   \n",
       "4  2022-09-30  97.730003   99.494003  96.029999   96.150002   96.150002   \n",
       "\n",
       "     Volume  \n",
       "0  22437900  \n",
       "1  24225000  \n",
       "2  24617000  \n",
       "3  21921500  \n",
       "4  26277800  "
      ]
     },
     "execution_count": 3,
     "metadata": {},
     "output_type": "execute_result"
    }
   ],
   "source": [
    "goog.head()"
   ]
  },
  {
   "cell_type": "code",
   "execution_count": 4,
   "id": "d23b8587-ce9f-4aa3-b747-4fc5fb048c07",
   "metadata": {},
   "outputs": [
    {
     "data": {
      "text/plain": [
       "Date         0\n",
       "Open         0\n",
       "High         0\n",
       "Low          0\n",
       "Close        0\n",
       "Adj Close    0\n",
       "Volume       0\n",
       "dtype: int64"
      ]
     },
     "execution_count": 4,
     "metadata": {},
     "output_type": "execute_result"
    }
   ],
   "source": [
    "goog.isnull().sum()"
   ]
  },
  {
   "cell_type": "code",
   "execution_count": 5,
   "id": "3a980182-49a4-4c67-8adf-1fb72b6ace3f",
   "metadata": {},
   "outputs": [
    {
     "data": {
      "text/html": [
       "<div>\n",
       "<style scoped>\n",
       "    .dataframe tbody tr th:only-of-type {\n",
       "        vertical-align: middle;\n",
       "    }\n",
       "\n",
       "    .dataframe tbody tr th {\n",
       "        vertical-align: top;\n",
       "    }\n",
       "\n",
       "    .dataframe thead th {\n",
       "        text-align: right;\n",
       "    }\n",
       "</style>\n",
       "<table border=\"1\" class=\"dataframe\">\n",
       "  <thead>\n",
       "    <tr style=\"text-align: right;\">\n",
       "      <th></th>\n",
       "      <th>Open</th>\n",
       "      <th>High</th>\n",
       "      <th>Low</th>\n",
       "      <th>Close</th>\n",
       "      <th>Adj Close</th>\n",
       "      <th>Volume</th>\n",
       "    </tr>\n",
       "  </thead>\n",
       "  <tbody>\n",
       "    <tr>\n",
       "      <th>count</th>\n",
       "      <td>250.000000</td>\n",
       "      <td>250.000000</td>\n",
       "      <td>250.000000</td>\n",
       "      <td>250.000000</td>\n",
       "      <td>250.000000</td>\n",
       "      <td>2.500000e+02</td>\n",
       "    </tr>\n",
       "    <tr>\n",
       "      <th>mean</th>\n",
       "      <td>108.621844</td>\n",
       "      <td>110.123840</td>\n",
       "      <td>107.464192</td>\n",
       "      <td>108.804460</td>\n",
       "      <td>108.804460</td>\n",
       "      <td>2.679028e+07</td>\n",
       "    </tr>\n",
       "    <tr>\n",
       "      <th>std</th>\n",
       "      <td>15.505143</td>\n",
       "      <td>15.528089</td>\n",
       "      <td>15.511418</td>\n",
       "      <td>15.505354</td>\n",
       "      <td>15.505354</td>\n",
       "      <td>1.105282e+07</td>\n",
       "    </tr>\n",
       "    <tr>\n",
       "      <th>min</th>\n",
       "      <td>85.510002</td>\n",
       "      <td>86.550003</td>\n",
       "      <td>83.449997</td>\n",
       "      <td>83.489998</td>\n",
       "      <td>83.489998</td>\n",
       "      <td>8.567800e+06</td>\n",
       "    </tr>\n",
       "    <tr>\n",
       "      <th>25%</th>\n",
       "      <td>95.749998</td>\n",
       "      <td>97.344997</td>\n",
       "      <td>94.440003</td>\n",
       "      <td>95.835001</td>\n",
       "      <td>95.835001</td>\n",
       "      <td>2.035162e+07</td>\n",
       "    </tr>\n",
       "    <tr>\n",
       "      <th>50%</th>\n",
       "      <td>103.784999</td>\n",
       "      <td>105.842499</td>\n",
       "      <td>103.144997</td>\n",
       "      <td>104.760002</td>\n",
       "      <td>104.760002</td>\n",
       "      <td>2.402970e+07</td>\n",
       "    </tr>\n",
       "    <tr>\n",
       "      <th>75%</th>\n",
       "      <td>123.473749</td>\n",
       "      <td>124.872502</td>\n",
       "      <td>122.402498</td>\n",
       "      <td>123.350003</td>\n",
       "      <td>123.350003</td>\n",
       "      <td>3.010655e+07</td>\n",
       "    </tr>\n",
       "    <tr>\n",
       "      <th>max</th>\n",
       "      <td>138.830002</td>\n",
       "      <td>139.929993</td>\n",
       "      <td>137.630005</td>\n",
       "      <td>138.990005</td>\n",
       "      <td>138.990005</td>\n",
       "      <td>9.779860e+07</td>\n",
       "    </tr>\n",
       "  </tbody>\n",
       "</table>\n",
       "</div>"
      ],
      "text/plain": [
       "             Open        High         Low       Close   Adj Close  \\\n",
       "count  250.000000  250.000000  250.000000  250.000000  250.000000   \n",
       "mean   108.621844  110.123840  107.464192  108.804460  108.804460   \n",
       "std     15.505143   15.528089   15.511418   15.505354   15.505354   \n",
       "min     85.510002   86.550003   83.449997   83.489998   83.489998   \n",
       "25%     95.749998   97.344997   94.440003   95.835001   95.835001   \n",
       "50%    103.784999  105.842499  103.144997  104.760002  104.760002   \n",
       "75%    123.473749  124.872502  122.402498  123.350003  123.350003   \n",
       "max    138.830002  139.929993  137.630005  138.990005  138.990005   \n",
       "\n",
       "             Volume  \n",
       "count  2.500000e+02  \n",
       "mean   2.679028e+07  \n",
       "std    1.105282e+07  \n",
       "min    8.567800e+06  \n",
       "25%    2.035162e+07  \n",
       "50%    2.402970e+07  \n",
       "75%    3.010655e+07  \n",
       "max    9.779860e+07  "
      ]
     },
     "execution_count": 5,
     "metadata": {},
     "output_type": "execute_result"
    }
   ],
   "source": [
    "goog.describe()"
   ]
  },
  {
   "cell_type": "code",
   "execution_count": 6,
   "id": "6375407c-f61a-42cb-903f-9fee68ce7b3b",
   "metadata": {},
   "outputs": [
    {
     "name": "stdout",
     "output_type": "stream",
     "text": [
      "<class 'pandas.core.frame.DataFrame'>\n",
      "RangeIndex: 250 entries, 0 to 249\n",
      "Data columns (total 7 columns):\n",
      " #   Column     Non-Null Count  Dtype  \n",
      "---  ------     --------------  -----  \n",
      " 0   Date       250 non-null    object \n",
      " 1   Open       250 non-null    float64\n",
      " 2   High       250 non-null    float64\n",
      " 3   Low        250 non-null    float64\n",
      " 4   Close      250 non-null    float64\n",
      " 5   Adj Close  250 non-null    float64\n",
      " 6   Volume     250 non-null    int64  \n",
      "dtypes: float64(5), int64(1), object(1)\n",
      "memory usage: 13.8+ KB\n"
     ]
    }
   ],
   "source": [
    "goog.info()"
   ]
  },
  {
   "cell_type": "code",
   "execution_count": 8,
   "id": "f96234f3-2ea0-459a-b15e-2672769edc86",
   "metadata": {},
   "outputs": [
    {
     "data": {
      "text/plain": [
       "Index(['Date', 'Open', 'High', 'Low', 'Close', 'Adj Close', 'Volume'], dtype='object')"
      ]
     },
     "execution_count": 8,
     "metadata": {},
     "output_type": "execute_result"
    }
   ],
   "source": [
    "goog.columns"
   ]
  },
  {
   "cell_type": "code",
   "execution_count": 12,
   "id": "4f92e03f-95eb-452c-b1db-04b6c321a158",
   "metadata": {},
   "outputs": [],
   "source": [
    "goog['Date'] = pd.to_datetime(goog['Date'])"
   ]
  },
  {
   "cell_type": "code",
   "execution_count": 13,
   "id": "f9d5c164-ba21-49c6-92b7-d0e178bd7d59",
   "metadata": {},
   "outputs": [
    {
     "data": {
      "text/plain": [
       "Date         datetime64[ns]\n",
       "Open                float64\n",
       "High                float64\n",
       "Low                 float64\n",
       "Close               float64\n",
       "Adj Close           float64\n",
       "Volume                int64\n",
       "dtype: object"
      ]
     },
     "execution_count": 13,
     "metadata": {},
     "output_type": "execute_result"
    }
   ],
   "source": [
    "goog.dtypes"
   ]
  },
  {
   "cell_type": "code",
   "execution_count": 14,
   "id": "5e16781a-9699-49d0-913c-edeb32167f91",
   "metadata": {},
   "outputs": [],
   "source": [
    "goog.set_index(keys='Date', inplace=True)"
   ]
  },
  {
   "cell_type": "code",
   "execution_count": 15,
   "id": "956b447b-2dc3-413b-b7a5-b110b7357f1f",
   "metadata": {},
   "outputs": [
    {
     "data": {
      "text/plain": [
       "DatetimeIndex(['2022-09-26', '2022-09-27', '2022-09-28', '2022-09-29',\n",
       "               '2022-09-30', '2022-10-03', '2022-10-04', '2022-10-05',\n",
       "               '2022-10-06', '2022-10-07',\n",
       "               ...\n",
       "               '2023-09-11', '2023-09-12', '2023-09-13', '2023-09-14',\n",
       "               '2023-09-15', '2023-09-18', '2023-09-19', '2023-09-20',\n",
       "               '2023-09-21', '2023-09-22'],\n",
       "              dtype='datetime64[ns]', name='Date', length=250, freq=None)"
      ]
     },
     "execution_count": 15,
     "metadata": {},
     "output_type": "execute_result"
    }
   ],
   "source": [
    "goog.index"
   ]
  },
  {
   "cell_type": "markdown",
   "id": "392a9671-422b-4922-8e50-c01a134bce40",
   "metadata": {},
   "source": [
    "Let's Check our data for the outliers by using IQR technique."
   ]
  },
  {
   "cell_type": "code",
   "execution_count": 27,
   "id": "d2d39663-ecc7-41aa-a879-5db7d63108c9",
   "metadata": {},
   "outputs": [],
   "source": [
    "def IQRtech(columns):\n",
    "    for col in columns:\n",
    "        close_column = goog[col]\n",
    "        Q1 = close_column.quantile(0.25)\n",
    "        Q3 = close_column.quantile(0.75)\n",
    "        IQR = Q3 - Q1\n",
    "        \n",
    "        lower_bound = Q1 - 1.5 * IQR\n",
    "        upper_bound = Q3 + 1.5 * IQR\n",
    "        \n",
    "        outliers = close_column[(close_column < lower_bound) | (close_column > upper_bound)]\n",
    "        \n",
    "        print(f'''Outliers {col} :''')\n",
    "        print(outliers)"
   ]
  },
  {
   "cell_type": "code",
   "execution_count": 28,
   "id": "fb78f036-02e8-4981-bc4a-d958db66ed8b",
   "metadata": {},
   "outputs": [
    {
     "name": "stdout",
     "output_type": "stream",
     "text": [
      "Outliers Open :\n",
      "Series([], Name: Open, dtype: float64)\n",
      "Outliers High :\n",
      "Series([], Name: High, dtype: float64)\n",
      "Outliers Low :\n",
      "Series([], Name: Low, dtype: float64)\n",
      "Outliers Close :\n",
      "Series([], Name: Close, dtype: float64)\n",
      "Outliers Adj Close :\n",
      "Series([], Name: Adj Close, dtype: float64)\n",
      "Outliers Volume :\n",
      "Date\n",
      "2022-10-26    71504300\n",
      "2022-10-27    54036500\n",
      "2022-11-03    48510400\n",
      "2022-12-16    48485500\n",
      "2023-01-20    53704800\n",
      "2023-02-02    46622600\n",
      "2023-02-08    73546000\n",
      "2023-02-09    97798600\n",
      "2023-02-10    49325300\n",
      "2023-03-16    54499500\n",
      "2023-03-17    76140300\n",
      "2023-05-10    47533500\n",
      "2023-05-11    57115100\n",
      "2023-06-16    56686800\n",
      "2023-07-21    56498100\n",
      "2023-07-26    46216900\n",
      "2023-09-15    48947600\n",
      "Name: Volume, dtype: int64\n"
     ]
    }
   ],
   "source": [
    "IQRtech(goog.columns)"
   ]
  },
  {
   "cell_type": "code",
   "execution_count": 29,
   "id": "b1f052b1-3dc9-4106-ba9d-cdda13f8f29e",
   "metadata": {},
   "outputs": [
    {
     "data": {
      "text/plain": [
       "<Axes: >"
      ]
     },
     "execution_count": 29,
     "metadata": {},
     "output_type": "execute_result"
    },
    {
     "data": {
      "image/png": "[encoded data removed]",
      "text/plain": [
       "<Figure size 640x480 with 1 Axes>"
      ]
     },
     "metadata": {},
     "output_type": "display_data"
    }
   ],
   "source": [
    "goog.Volume.plot.box()"
   ]
  },
  {
   "cell_type": "markdown",
   "id": "2a633fe0-e5eb-423c-a5e7-fccce530b561",
   "metadata": {},
   "source": [
    "* We clearly do not have any outliers in Closing price in our data. So, we can certainly use moving averages of about 7 and 30 days of closing price for predicting the further closing prices."
   ]
  },
  {
   "cell_type": "code",
   "execution_count": 30,
   "id": "b6fc71c6-df8e-4920-8739-60354689b741",
   "metadata": {},
   "outputs": [],
   "source": [
    "from sklearn.model_selection import train_test_split"
   ]
  },
  {
   "cell_type": "code",
   "execution_count": 37,
   "id": "e758db1d-39a7-4d9e-91cc-e0506caede8e",
   "metadata": {},
   "outputs": [
    {
     "data": {
      "text/html": [
       "<div>\n",
       "<style scoped>\n",
       "    .dataframe tbody tr th:only-of-type {\n",
       "        vertical-align: middle;\n",
       "    }\n",
       "\n",
       "    .dataframe tbody tr th {\n",
       "        vertical-align: top;\n",
       "    }\n",
       "\n",
       "    .dataframe thead th {\n",
       "        text-align: right;\n",
       "    }\n",
       "</style>\n",
       "<table border=\"1\" class=\"dataframe\">\n",
       "  <thead>\n",
       "    <tr style=\"text-align: right;\">\n",
       "      <th></th>\n",
       "      <th>Date</th>\n",
       "      <th>Open</th>\n",
       "      <th>High</th>\n",
       "      <th>Low</th>\n",
       "      <th>Close</th>\n",
       "      <th>Adj Close</th>\n",
       "      <th>Volume</th>\n",
       "    </tr>\n",
       "  </thead>\n",
       "  <tbody>\n",
       "    <tr>\n",
       "      <th>0</th>\n",
       "      <td>2022-09-26</td>\n",
       "      <td>98.610001</td>\n",
       "      <td>100.440002</td>\n",
       "      <td>98.379997</td>\n",
       "      <td>98.809998</td>\n",
       "      <td>98.809998</td>\n",
       "      <td>22437900</td>\n",
       "    </tr>\n",
       "    <tr>\n",
       "      <th>1</th>\n",
       "      <td>2022-09-27</td>\n",
       "      <td>99.910004</td>\n",
       "      <td>100.459999</td>\n",
       "      <td>97.339996</td>\n",
       "      <td>98.089996</td>\n",
       "      <td>98.089996</td>\n",
       "      <td>24225000</td>\n",
       "    </tr>\n",
       "    <tr>\n",
       "      <th>2</th>\n",
       "      <td>2022-09-28</td>\n",
       "      <td>98.019997</td>\n",
       "      <td>101.400002</td>\n",
       "      <td>97.800003</td>\n",
       "      <td>100.739998</td>\n",
       "      <td>100.739998</td>\n",
       "      <td>24617000</td>\n",
       "    </tr>\n",
       "    <tr>\n",
       "      <th>3</th>\n",
       "      <td>2022-09-29</td>\n",
       "      <td>99.300003</td>\n",
       "      <td>99.300003</td>\n",
       "      <td>96.519997</td>\n",
       "      <td>98.089996</td>\n",
       "      <td>98.089996</td>\n",
       "      <td>21921500</td>\n",
       "    </tr>\n",
       "    <tr>\n",
       "      <th>4</th>\n",
       "      <td>2022-09-30</td>\n",
       "      <td>97.730003</td>\n",
       "      <td>99.494003</td>\n",
       "      <td>96.029999</td>\n",
       "      <td>96.150002</td>\n",
       "      <td>96.150002</td>\n",
       "      <td>26277800</td>\n",
       "    </tr>\n",
       "    <tr>\n",
       "      <th>...</th>\n",
       "      <td>...</td>\n",
       "      <td>...</td>\n",
       "      <td>...</td>\n",
       "      <td>...</td>\n",
       "      <td>...</td>\n",
       "      <td>...</td>\n",
       "      <td>...</td>\n",
       "    </tr>\n",
       "    <tr>\n",
       "      <th>245</th>\n",
       "      <td>2023-09-18</td>\n",
       "      <td>137.630005</td>\n",
       "      <td>139.929993</td>\n",
       "      <td>137.630005</td>\n",
       "      <td>138.960007</td>\n",
       "      <td>138.960007</td>\n",
       "      <td>16233600</td>\n",
       "    </tr>\n",
       "    <tr>\n",
       "      <th>246</th>\n",
       "      <td>2023-09-19</td>\n",
       "      <td>138.250000</td>\n",
       "      <td>139.175003</td>\n",
       "      <td>137.500000</td>\n",
       "      <td>138.830002</td>\n",
       "      <td>138.830002</td>\n",
       "      <td>15479100</td>\n",
       "    </tr>\n",
       "    <tr>\n",
       "      <th>247</th>\n",
       "      <td>2023-09-20</td>\n",
       "      <td>138.830002</td>\n",
       "      <td>138.839996</td>\n",
       "      <td>134.520004</td>\n",
       "      <td>134.589996</td>\n",
       "      <td>134.589996</td>\n",
       "      <td>21473500</td>\n",
       "    </tr>\n",
       "    <tr>\n",
       "      <th>248</th>\n",
       "      <td>2023-09-21</td>\n",
       "      <td>132.389999</td>\n",
       "      <td>133.190002</td>\n",
       "      <td>131.089996</td>\n",
       "      <td>131.360001</td>\n",
       "      <td>131.360001</td>\n",
       "      <td>22042700</td>\n",
       "    </tr>\n",
       "    <tr>\n",
       "      <th>249</th>\n",
       "      <td>2023-09-22</td>\n",
       "      <td>131.679993</td>\n",
       "      <td>133.000000</td>\n",
       "      <td>130.509995</td>\n",
       "      <td>131.250000</td>\n",
       "      <td>131.250000</td>\n",
       "      <td>16124280</td>\n",
       "    </tr>\n",
       "  </tbody>\n",
       "</table>\n",
       "<p>250 rows × 7 columns</p>\n",
       "</div>"
      ],
      "text/plain": [
       "          Date        Open        High         Low       Close   Adj Close  \\\n",
       "0   2022-09-26   98.610001  100.440002   98.379997   98.809998   98.809998   \n",
       "1   2022-09-27   99.910004  100.459999   97.339996   98.089996   98.089996   \n",
       "2   2022-09-28   98.019997  101.400002   97.800003  100.739998  100.739998   \n",
       "3   2022-09-29   99.300003   99.300003   96.519997   98.089996   98.089996   \n",
       "4   2022-09-30   97.730003   99.494003   96.029999   96.150002   96.150002   \n",
       "..         ...         ...         ...         ...         ...         ...   \n",
       "245 2023-09-18  137.630005  139.929993  137.630005  138.960007  138.960007   \n",
       "246 2023-09-19  138.250000  139.175003  137.500000  138.830002  138.830002   \n",
       "247 2023-09-20  138.830002  138.839996  134.520004  134.589996  134.589996   \n",
       "248 2023-09-21  132.389999  133.190002  131.089996  131.360001  131.360001   \n",
       "249 2023-09-22  131.679993  133.000000  130.509995  131.250000  131.250000   \n",
       "\n",
       "       Volume  \n",
       "0    22437900  \n",
       "1    24225000  \n",
       "2    24617000  \n",
       "3    21921500  \n",
       "4    26277800  \n",
       "..        ...  \n",
       "245  16233600  \n",
       "246  15479100  \n",
       "247  21473500  \n",
       "248  22042700  \n",
       "249  16124280  \n",
       "\n",
       "[250 rows x 7 columns]"
      ]
     },
     "execution_count": 37,
     "metadata": {},
     "output_type": "execute_result"
    }
   ],
   "source": [
    "goog.reset_index(inplace=True)\n",
    "goog"
   ]
  },
  {
   "cell_type": "code",
   "execution_count": 50,
   "id": "2abb1c03-ee03-4b0c-955e-8e2e96c4ad8a",
   "metadata": {},
   "outputs": [
    {
     "data": {
      "text/plain": [
       "[<matplotlib.lines.Line2D at 0x27d1927c1c0>]"
      ]
     },
     "execution_count": 50,
     "metadata": {},
     "output_type": "execute_result"
    },
    {
     "data": {
      "image/png": "[encoded data removed]",
      "text/plain": [
       "<Figure size 640x480 with 1 Axes>"
      ]
     },
     "metadata": {},
     "output_type": "display_data"
    }
   ],
   "source": [
    "import matplotlib.pyplot as plt\n",
    "plt.plot(goog['Date'], goog['Close'])"
   ]
  },
  {
   "cell_type": "code",
   "execution_count": 122,
   "id": "15404ead-930b-497b-8314-6551b9142c1d",
   "metadata": {},
   "outputs": [],
   "source": [
    "goog['Close_three_movavg'] = goog['Close'].rolling(3).mean()"
   ]
  },
  {
   "cell_type": "code",
   "execution_count": 123,
   "id": "3fcfabb3-a34d-4a32-8794-5417137d912a",
   "metadata": {},
   "outputs": [
    {
     "data": {
      "text/html": [
       "<div>\n",
       "<style scoped>\n",
       "    .dataframe tbody tr th:only-of-type {\n",
       "        vertical-align: middle;\n",
       "    }\n",
       "\n",
       "    .dataframe tbody tr th {\n",
       "        vertical-align: top;\n",
       "    }\n",
       "\n",
       "    .dataframe thead th {\n",
       "        text-align: right;\n",
       "    }\n",
       "</style>\n",
       "<table border=\"1\" class=\"dataframe\">\n",
       "  <thead>\n",
       "    <tr style=\"text-align: right;\">\n",
       "      <th></th>\n",
       "      <th>Open</th>\n",
       "      <th>High</th>\n",
       "      <th>Low</th>\n",
       "      <th>Close</th>\n",
       "      <th>Adj Close</th>\n",
       "      <th>Volume</th>\n",
       "      <th>Close_sev_movavg</th>\n",
       "      <th>Close_thirty_movavg</th>\n",
       "      <th>Close_three_movavg</th>\n",
       "    </tr>\n",
       "    <tr>\n",
       "      <th>Date</th>\n",
       "      <th></th>\n",
       "      <th></th>\n",
       "      <th></th>\n",
       "      <th></th>\n",
       "      <th></th>\n",
       "      <th></th>\n",
       "      <th></th>\n",
       "      <th></th>\n",
       "      <th></th>\n",
       "    </tr>\n",
       "  </thead>\n",
       "  <tbody>\n",
       "    <tr>\n",
       "      <th>2022-11-14</th>\n",
       "      <td>95.500000</td>\n",
       "      <td>97.180000</td>\n",
       "      <td>95.112999</td>\n",
       "      <td>96.029999</td>\n",
       "      <td>96.029999</td>\n",
       "      <td>24170100</td>\n",
       "      <td>95.643333</td>\n",
       "      <td>91.227144</td>\n",
       "      <td>NaN</td>\n",
       "    </tr>\n",
       "    <tr>\n",
       "      <th>2022-11-15</th>\n",
       "      <td>98.669998</td>\n",
       "      <td>100.419998</td>\n",
       "      <td>97.019997</td>\n",
       "      <td>98.720001</td>\n",
       "      <td>98.720001</td>\n",
       "      <td>31831000</td>\n",
       "      <td>97.160001</td>\n",
       "      <td>92.944287</td>\n",
       "      <td>NaN</td>\n",
       "    </tr>\n",
       "    <tr>\n",
       "      <th>2022-11-16</th>\n",
       "      <td>98.019997</td>\n",
       "      <td>99.849998</td>\n",
       "      <td>97.902000</td>\n",
       "      <td>98.989998</td>\n",
       "      <td>98.989998</td>\n",
       "      <td>24660200</td>\n",
       "      <td>97.913333</td>\n",
       "      <td>94.421429</td>\n",
       "      <td>97.913333</td>\n",
       "    </tr>\n",
       "    <tr>\n",
       "      <th>2022-11-17</th>\n",
       "      <td>97.180000</td>\n",
       "      <td>99.480003</td>\n",
       "      <td>97.099998</td>\n",
       "      <td>98.500000</td>\n",
       "      <td>98.500000</td>\n",
       "      <td>21818700</td>\n",
       "      <td>98.736666</td>\n",
       "      <td>95.791429</td>\n",
       "      <td>98.736666</td>\n",
       "    </tr>\n",
       "    <tr>\n",
       "      <th>2022-11-18</th>\n",
       "      <td>99.010002</td>\n",
       "      <td>99.160004</td>\n",
       "      <td>96.739998</td>\n",
       "      <td>97.800003</td>\n",
       "      <td>97.800003</td>\n",
       "      <td>24969900</td>\n",
       "      <td>98.430000</td>\n",
       "      <td>97.277143</td>\n",
       "      <td>98.430000</td>\n",
       "    </tr>\n",
       "    <tr>\n",
       "      <th>2022-11-21</th>\n",
       "      <td>97.559998</td>\n",
       "      <td>98.720001</td>\n",
       "      <td>95.669998</td>\n",
       "      <td>95.830002</td>\n",
       "      <td>95.830002</td>\n",
       "      <td>18696900</td>\n",
       "      <td>97.376668</td>\n",
       "      <td>97.514287</td>\n",
       "      <td>97.376668</td>\n",
       "    </tr>\n",
       "    <tr>\n",
       "      <th>2022-11-22</th>\n",
       "      <td>96.160004</td>\n",
       "      <td>97.547997</td>\n",
       "      <td>94.410004</td>\n",
       "      <td>97.330002</td>\n",
       "      <td>97.330002</td>\n",
       "      <td>18868900</td>\n",
       "      <td>96.986669</td>\n",
       "      <td>97.600001</td>\n",
       "      <td>96.986669</td>\n",
       "    </tr>\n",
       "    <tr>\n",
       "      <th>2022-11-23</th>\n",
       "      <td>97.339996</td>\n",
       "      <td>99.069000</td>\n",
       "      <td>97.339996</td>\n",
       "      <td>98.820000</td>\n",
       "      <td>98.820000</td>\n",
       "      <td>17568900</td>\n",
       "      <td>97.326668</td>\n",
       "      <td>97.998572</td>\n",
       "      <td>97.326668</td>\n",
       "    </tr>\n",
       "    <tr>\n",
       "      <th>2022-11-25</th>\n",
       "      <td>98.464996</td>\n",
       "      <td>98.940002</td>\n",
       "      <td>97.529999</td>\n",
       "      <td>97.599998</td>\n",
       "      <td>97.599998</td>\n",
       "      <td>8567800</td>\n",
       "      <td>97.916667</td>\n",
       "      <td>97.838572</td>\n",
       "      <td>97.916667</td>\n",
       "    </tr>\n",
       "    <tr>\n",
       "      <th>2022-11-28</th>\n",
       "      <td>97.199997</td>\n",
       "      <td>97.830002</td>\n",
       "      <td>95.889999</td>\n",
       "      <td>96.250000</td>\n",
       "      <td>96.250000</td>\n",
       "      <td>19974500</td>\n",
       "      <td>97.556666</td>\n",
       "      <td>97.447144</td>\n",
       "      <td>97.556666</td>\n",
       "    </tr>\n",
       "  </tbody>\n",
       "</table>\n",
       "</div>"
      ],
      "text/plain": [
       "                 Open        High        Low      Close  Adj Close    Volume  \\\n",
       "Date                                                                           \n",
       "2022-11-14  95.500000   97.180000  95.112999  96.029999  96.029999  24170100   \n",
       "2022-11-15  98.669998  100.419998  97.019997  98.720001  98.720001  31831000   \n",
       "2022-11-16  98.019997   99.849998  97.902000  98.989998  98.989998  24660200   \n",
       "2022-11-17  97.180000   99.480003  97.099998  98.500000  98.500000  21818700   \n",
       "2022-11-18  99.010002   99.160004  96.739998  97.800003  97.800003  24969900   \n",
       "2022-11-21  97.559998   98.720001  95.669998  95.830002  95.830002  18696900   \n",
       "2022-11-22  96.160004   97.547997  94.410004  97.330002  97.330002  18868900   \n",
       "2022-11-23  97.339996   99.069000  97.339996  98.820000  98.820000  17568900   \n",
       "2022-11-25  98.464996   98.940002  97.529999  97.599998  97.599998   8567800   \n",
       "2022-11-28  97.199997   97.830002  95.889999  96.250000  96.250000  19974500   \n",
       "\n",
       "            Close_sev_movavg  Close_thirty_movavg  Close_three_movavg  \n",
       "Date                                                                   \n",
       "2022-11-14         95.643333            91.227144                 NaN  \n",
       "2022-11-15         97.160001            92.944287                 NaN  \n",
       "2022-11-16         97.913333            94.421429           97.913333  \n",
       "2022-11-17         98.736666            95.791429           98.736666  \n",
       "2022-11-18         98.430000            97.277143           98.430000  \n",
       "2022-11-21         97.376668            97.514287           97.376668  \n",
       "2022-11-22         96.986669            97.600001           96.986669  \n",
       "2022-11-23         97.326668            97.998572           97.326668  \n",
       "2022-11-25         97.916667            97.838572           97.916667  \n",
       "2022-11-28         97.556666            97.447144           97.556666  "
      ]
     },
     "execution_count": 123,
     "metadata": {},
     "output_type": "execute_result"
    }
   ],
   "source": [
    "goog.head(10)"
   ]
  },
  {
   "cell_type": "code",
   "execution_count": 124,
   "id": "e5fcd566-529a-4f10-976f-0e248c18e1b3",
   "metadata": {},
   "outputs": [],
   "source": [
    "goog['Close_sev_movavg'] = goog['Close'].rolling(7).mean()"
   ]
  },
  {
   "cell_type": "code",
   "execution_count": 126,
   "id": "84a5c525-2e69-4198-8299-1a4e4f713eeb",
   "metadata": {},
   "outputs": [
    {
     "data": {
      "text/html": [
       "<div>\n",
       "<style scoped>\n",
       "    .dataframe tbody tr th:only-of-type {\n",
       "        vertical-align: middle;\n",
       "    }\n",
       "\n",
       "    .dataframe tbody tr th {\n",
       "        vertical-align: top;\n",
       "    }\n",
       "\n",
       "    .dataframe thead th {\n",
       "        text-align: right;\n",
       "    }\n",
       "</style>\n",
       "<table border=\"1\" class=\"dataframe\">\n",
       "  <thead>\n",
       "    <tr style=\"text-align: right;\">\n",
       "      <th></th>\n",
       "      <th>Open</th>\n",
       "      <th>High</th>\n",
       "      <th>Low</th>\n",
       "      <th>Close</th>\n",
       "      <th>Adj Close</th>\n",
       "      <th>Volume</th>\n",
       "      <th>Close_sev_movavg</th>\n",
       "      <th>Close_three_movavg</th>\n",
       "    </tr>\n",
       "    <tr>\n",
       "      <th>Date</th>\n",
       "      <th></th>\n",
       "      <th></th>\n",
       "      <th></th>\n",
       "      <th></th>\n",
       "      <th></th>\n",
       "      <th></th>\n",
       "      <th></th>\n",
       "      <th></th>\n",
       "    </tr>\n",
       "  </thead>\n",
       "  <tbody>\n",
       "    <tr>\n",
       "      <th>2022-11-14</th>\n",
       "      <td>95.500000</td>\n",
       "      <td>97.180000</td>\n",
       "      <td>95.112999</td>\n",
       "      <td>96.029999</td>\n",
       "      <td>96.029999</td>\n",
       "      <td>24170100</td>\n",
       "      <td>NaN</td>\n",
       "      <td>NaN</td>\n",
       "    </tr>\n",
       "    <tr>\n",
       "      <th>2022-11-15</th>\n",
       "      <td>98.669998</td>\n",
       "      <td>100.419998</td>\n",
       "      <td>97.019997</td>\n",
       "      <td>98.720001</td>\n",
       "      <td>98.720001</td>\n",
       "      <td>31831000</td>\n",
       "      <td>NaN</td>\n",
       "      <td>NaN</td>\n",
       "    </tr>\n",
       "    <tr>\n",
       "      <th>2022-11-16</th>\n",
       "      <td>98.019997</td>\n",
       "      <td>99.849998</td>\n",
       "      <td>97.902000</td>\n",
       "      <td>98.989998</td>\n",
       "      <td>98.989998</td>\n",
       "      <td>24660200</td>\n",
       "      <td>NaN</td>\n",
       "      <td>97.913333</td>\n",
       "    </tr>\n",
       "    <tr>\n",
       "      <th>2022-11-17</th>\n",
       "      <td>97.180000</td>\n",
       "      <td>99.480003</td>\n",
       "      <td>97.099998</td>\n",
       "      <td>98.500000</td>\n",
       "      <td>98.500000</td>\n",
       "      <td>21818700</td>\n",
       "      <td>NaN</td>\n",
       "      <td>98.736666</td>\n",
       "    </tr>\n",
       "    <tr>\n",
       "      <th>2022-11-18</th>\n",
       "      <td>99.010002</td>\n",
       "      <td>99.160004</td>\n",
       "      <td>96.739998</td>\n",
       "      <td>97.800003</td>\n",
       "      <td>97.800003</td>\n",
       "      <td>24969900</td>\n",
       "      <td>NaN</td>\n",
       "      <td>98.430000</td>\n",
       "    </tr>\n",
       "    <tr>\n",
       "      <th>...</th>\n",
       "      <td>...</td>\n",
       "      <td>...</td>\n",
       "      <td>...</td>\n",
       "      <td>...</td>\n",
       "      <td>...</td>\n",
       "      <td>...</td>\n",
       "      <td>...</td>\n",
       "      <td>...</td>\n",
       "    </tr>\n",
       "    <tr>\n",
       "      <th>2023-09-18</th>\n",
       "      <td>137.630005</td>\n",
       "      <td>139.929993</td>\n",
       "      <td>137.630005</td>\n",
       "      <td>138.960007</td>\n",
       "      <td>138.960007</td>\n",
       "      <td>16233600</td>\n",
       "      <td>137.822861</td>\n",
       "      <td>138.750005</td>\n",
       "    </tr>\n",
       "    <tr>\n",
       "      <th>2023-09-19</th>\n",
       "      <td>138.250000</td>\n",
       "      <td>139.175003</td>\n",
       "      <td>137.500000</td>\n",
       "      <td>138.830002</td>\n",
       "      <td>138.830002</td>\n",
       "      <td>15479100</td>\n",
       "      <td>138.055718</td>\n",
       "      <td>138.696671</td>\n",
       "    </tr>\n",
       "    <tr>\n",
       "      <th>2023-09-20</th>\n",
       "      <td>138.830002</td>\n",
       "      <td>138.839996</td>\n",
       "      <td>134.520004</td>\n",
       "      <td>134.589996</td>\n",
       "      <td>134.589996</td>\n",
       "      <td>21473500</td>\n",
       "      <td>137.605717</td>\n",
       "      <td>137.460002</td>\n",
       "    </tr>\n",
       "    <tr>\n",
       "      <th>2023-09-21</th>\n",
       "      <td>132.389999</td>\n",
       "      <td>133.190002</td>\n",
       "      <td>131.089996</td>\n",
       "      <td>131.360001</td>\n",
       "      <td>131.360001</td>\n",
       "      <td>22042700</td>\n",
       "      <td>136.932859</td>\n",
       "      <td>134.926666</td>\n",
       "    </tr>\n",
       "    <tr>\n",
       "      <th>2023-09-22</th>\n",
       "      <td>131.679993</td>\n",
       "      <td>133.000000</td>\n",
       "      <td>130.509995</td>\n",
       "      <td>131.250000</td>\n",
       "      <td>131.250000</td>\n",
       "      <td>16124280</td>\n",
       "      <td>136.040002</td>\n",
       "      <td>132.399999</td>\n",
       "    </tr>\n",
       "  </tbody>\n",
       "</table>\n",
       "<p>215 rows × 8 columns</p>\n",
       "</div>"
      ],
      "text/plain": [
       "                  Open        High         Low       Close   Adj Close  \\\n",
       "Date                                                                     \n",
       "2022-11-14   95.500000   97.180000   95.112999   96.029999   96.029999   \n",
       "2022-11-15   98.669998  100.419998   97.019997   98.720001   98.720001   \n",
       "2022-11-16   98.019997   99.849998   97.902000   98.989998   98.989998   \n",
       "2022-11-17   97.180000   99.480003   97.099998   98.500000   98.500000   \n",
       "2022-11-18   99.010002   99.160004   96.739998   97.800003   97.800003   \n",
       "...                ...         ...         ...         ...         ...   \n",
       "2023-09-18  137.630005  139.929993  137.630005  138.960007  138.960007   \n",
       "2023-09-19  138.250000  139.175003  137.500000  138.830002  138.830002   \n",
       "2023-09-20  138.830002  138.839996  134.520004  134.589996  134.589996   \n",
       "2023-09-21  132.389999  133.190002  131.089996  131.360001  131.360001   \n",
       "2023-09-22  131.679993  133.000000  130.509995  131.250000  131.250000   \n",
       "\n",
       "              Volume  Close_sev_movavg  Close_three_movavg  \n",
       "Date                                                        \n",
       "2022-11-14  24170100               NaN                 NaN  \n",
       "2022-11-15  31831000               NaN                 NaN  \n",
       "2022-11-16  24660200               NaN           97.913333  \n",
       "2022-11-17  21818700               NaN           98.736666  \n",
       "2022-11-18  24969900               NaN           98.430000  \n",
       "...              ...               ...                 ...  \n",
       "2023-09-18  16233600        137.822861          138.750005  \n",
       "2023-09-19  15479100        138.055718          138.696671  \n",
       "2023-09-20  21473500        137.605717          137.460002  \n",
       "2023-09-21  22042700        136.932859          134.926666  \n",
       "2023-09-22  16124280        136.040002          132.399999  \n",
       "\n",
       "[215 rows x 8 columns]"
      ]
     },
     "execution_count": 126,
     "metadata": {},
     "output_type": "execute_result"
    }
   ],
   "source": [
    "goog.drop(columns=['Close_thirty_movavg'], inplace=True)\n",
    "goog"
   ]
  },
  {
   "cell_type": "code",
   "execution_count": 127,
   "id": "89aa5e94-71d5-41dc-863d-9359e1a3d659",
   "metadata": {},
   "outputs": [],
   "source": [
    "goog.dropna(inplace=True)"
   ]
  },
  {
   "cell_type": "code",
   "execution_count": 128,
   "id": "c08f88bc-5da7-478e-92e8-bdc0d3901626",
   "metadata": {},
   "outputs": [
    {
     "data": {
      "text/html": [
       "<div>\n",
       "<style scoped>\n",
       "    .dataframe tbody tr th:only-of-type {\n",
       "        vertical-align: middle;\n",
       "    }\n",
       "\n",
       "    .dataframe tbody tr th {\n",
       "        vertical-align: top;\n",
       "    }\n",
       "\n",
       "    .dataframe thead th {\n",
       "        text-align: right;\n",
       "    }\n",
       "</style>\n",
       "<table border=\"1\" class=\"dataframe\">\n",
       "  <thead>\n",
       "    <tr style=\"text-align: right;\">\n",
       "      <th></th>\n",
       "      <th>Open</th>\n",
       "      <th>High</th>\n",
       "      <th>Low</th>\n",
       "      <th>Close</th>\n",
       "      <th>Adj Close</th>\n",
       "      <th>Volume</th>\n",
       "      <th>Close_sev_movavg</th>\n",
       "      <th>Close_three_movavg</th>\n",
       "    </tr>\n",
       "    <tr>\n",
       "      <th>Date</th>\n",
       "      <th></th>\n",
       "      <th></th>\n",
       "      <th></th>\n",
       "      <th></th>\n",
       "      <th></th>\n",
       "      <th></th>\n",
       "      <th></th>\n",
       "      <th></th>\n",
       "    </tr>\n",
       "  </thead>\n",
       "  <tbody>\n",
       "    <tr>\n",
       "      <th>2022-11-22</th>\n",
       "      <td>96.160004</td>\n",
       "      <td>97.547997</td>\n",
       "      <td>94.410004</td>\n",
       "      <td>97.330002</td>\n",
       "      <td>97.330002</td>\n",
       "      <td>18868900</td>\n",
       "      <td>97.600001</td>\n",
       "      <td>96.986669</td>\n",
       "    </tr>\n",
       "    <tr>\n",
       "      <th>2022-11-23</th>\n",
       "      <td>97.339996</td>\n",
       "      <td>99.069000</td>\n",
       "      <td>97.339996</td>\n",
       "      <td>98.820000</td>\n",
       "      <td>98.820000</td>\n",
       "      <td>17568900</td>\n",
       "      <td>97.998572</td>\n",
       "      <td>97.326668</td>\n",
       "    </tr>\n",
       "    <tr>\n",
       "      <th>2022-11-25</th>\n",
       "      <td>98.464996</td>\n",
       "      <td>98.940002</td>\n",
       "      <td>97.529999</td>\n",
       "      <td>97.599998</td>\n",
       "      <td>97.599998</td>\n",
       "      <td>8567800</td>\n",
       "      <td>97.838572</td>\n",
       "      <td>97.916667</td>\n",
       "    </tr>\n",
       "    <tr>\n",
       "      <th>2022-11-28</th>\n",
       "      <td>97.199997</td>\n",
       "      <td>97.830002</td>\n",
       "      <td>95.889999</td>\n",
       "      <td>96.250000</td>\n",
       "      <td>96.250000</td>\n",
       "      <td>19974500</td>\n",
       "      <td>97.447144</td>\n",
       "      <td>97.556666</td>\n",
       "    </tr>\n",
       "    <tr>\n",
       "      <th>2022-11-29</th>\n",
       "      <td>96.000000</td>\n",
       "      <td>96.389999</td>\n",
       "      <td>94.389999</td>\n",
       "      <td>95.440002</td>\n",
       "      <td>95.440002</td>\n",
       "      <td>20220000</td>\n",
       "      <td>97.010001</td>\n",
       "      <td>96.430000</td>\n",
       "    </tr>\n",
       "  </tbody>\n",
       "</table>\n",
       "</div>"
      ],
      "text/plain": [
       "                 Open       High        Low      Close  Adj Close    Volume  \\\n",
       "Date                                                                          \n",
       "2022-11-22  96.160004  97.547997  94.410004  97.330002  97.330002  18868900   \n",
       "2022-11-23  97.339996  99.069000  97.339996  98.820000  98.820000  17568900   \n",
       "2022-11-25  98.464996  98.940002  97.529999  97.599998  97.599998   8567800   \n",
       "2022-11-28  97.199997  97.830002  95.889999  96.250000  96.250000  19974500   \n",
       "2022-11-29  96.000000  96.389999  94.389999  95.440002  95.440002  20220000   \n",
       "\n",
       "            Close_sev_movavg  Close_three_movavg  \n",
       "Date                                              \n",
       "2022-11-22         97.600001           96.986669  \n",
       "2022-11-23         97.998572           97.326668  \n",
       "2022-11-25         97.838572           97.916667  \n",
       "2022-11-28         97.447144           97.556666  \n",
       "2022-11-29         97.010001           96.430000  "
      ]
     },
     "execution_count": 128,
     "metadata": {},
     "output_type": "execute_result"
    }
   ],
   "source": [
    "goog.head()"
   ]
  },
  {
   "cell_type": "code",
   "execution_count": 129,
   "id": "824ce577-f606-415a-9b1c-304743ca7aa6",
   "metadata": {},
   "outputs": [
    {
     "data": {
      "text/html": [
       "<div>\n",
       "<style scoped>\n",
       "    .dataframe tbody tr th:only-of-type {\n",
       "        vertical-align: middle;\n",
       "    }\n",
       "\n",
       "    .dataframe tbody tr th {\n",
       "        vertical-align: top;\n",
       "    }\n",
       "\n",
       "    .dataframe thead th {\n",
       "        text-align: right;\n",
       "    }\n",
       "</style>\n",
       "<table border=\"1\" class=\"dataframe\">\n",
       "  <thead>\n",
       "    <tr style=\"text-align: right;\">\n",
       "      <th></th>\n",
       "      <th>Open</th>\n",
       "      <th>High</th>\n",
       "      <th>Low</th>\n",
       "      <th>Close</th>\n",
       "      <th>Adj Close</th>\n",
       "      <th>Volume</th>\n",
       "      <th>Close_sev_movavg</th>\n",
       "      <th>Close_three_movavg</th>\n",
       "    </tr>\n",
       "    <tr>\n",
       "      <th>Date</th>\n",
       "      <th></th>\n",
       "      <th></th>\n",
       "      <th></th>\n",
       "      <th></th>\n",
       "      <th></th>\n",
       "      <th></th>\n",
       "      <th></th>\n",
       "      <th></th>\n",
       "    </tr>\n",
       "  </thead>\n",
       "  <tbody>\n",
       "    <tr>\n",
       "      <th>2022-11-22</th>\n",
       "      <td>96.160004</td>\n",
       "      <td>97.547997</td>\n",
       "      <td>94.410004</td>\n",
       "      <td>97.330002</td>\n",
       "      <td>97.330002</td>\n",
       "      <td>18868900</td>\n",
       "      <td>97.600001</td>\n",
       "      <td>96.986669</td>\n",
       "    </tr>\n",
       "    <tr>\n",
       "      <th>2022-11-23</th>\n",
       "      <td>97.339996</td>\n",
       "      <td>99.069000</td>\n",
       "      <td>97.339996</td>\n",
       "      <td>98.820000</td>\n",
       "      <td>98.820000</td>\n",
       "      <td>17568900</td>\n",
       "      <td>97.998572</td>\n",
       "      <td>97.326668</td>\n",
       "    </tr>\n",
       "    <tr>\n",
       "      <th>2022-11-25</th>\n",
       "      <td>98.464996</td>\n",
       "      <td>98.940002</td>\n",
       "      <td>97.529999</td>\n",
       "      <td>97.599998</td>\n",
       "      <td>97.599998</td>\n",
       "      <td>8567800</td>\n",
       "      <td>97.838572</td>\n",
       "      <td>97.916667</td>\n",
       "    </tr>\n",
       "    <tr>\n",
       "      <th>2022-11-28</th>\n",
       "      <td>97.199997</td>\n",
       "      <td>97.830002</td>\n",
       "      <td>95.889999</td>\n",
       "      <td>96.250000</td>\n",
       "      <td>96.250000</td>\n",
       "      <td>19974500</td>\n",
       "      <td>97.447144</td>\n",
       "      <td>97.556666</td>\n",
       "    </tr>\n",
       "    <tr>\n",
       "      <th>2022-11-29</th>\n",
       "      <td>96.000000</td>\n",
       "      <td>96.389999</td>\n",
       "      <td>94.389999</td>\n",
       "      <td>95.440002</td>\n",
       "      <td>95.440002</td>\n",
       "      <td>20220000</td>\n",
       "      <td>97.010001</td>\n",
       "      <td>96.430000</td>\n",
       "    </tr>\n",
       "    <tr>\n",
       "      <th>...</th>\n",
       "      <td>...</td>\n",
       "      <td>...</td>\n",
       "      <td>...</td>\n",
       "      <td>...</td>\n",
       "      <td>...</td>\n",
       "      <td>...</td>\n",
       "      <td>...</td>\n",
       "      <td>...</td>\n",
       "    </tr>\n",
       "    <tr>\n",
       "      <th>2023-09-18</th>\n",
       "      <td>137.630005</td>\n",
       "      <td>139.929993</td>\n",
       "      <td>137.630005</td>\n",
       "      <td>138.960007</td>\n",
       "      <td>138.960007</td>\n",
       "      <td>16233600</td>\n",
       "      <td>137.822861</td>\n",
       "      <td>138.750005</td>\n",
       "    </tr>\n",
       "    <tr>\n",
       "      <th>2023-09-19</th>\n",
       "      <td>138.250000</td>\n",
       "      <td>139.175003</td>\n",
       "      <td>137.500000</td>\n",
       "      <td>138.830002</td>\n",
       "      <td>138.830002</td>\n",
       "      <td>15479100</td>\n",
       "      <td>138.055718</td>\n",
       "      <td>138.696671</td>\n",
       "    </tr>\n",
       "    <tr>\n",
       "      <th>2023-09-20</th>\n",
       "      <td>138.830002</td>\n",
       "      <td>138.839996</td>\n",
       "      <td>134.520004</td>\n",
       "      <td>134.589996</td>\n",
       "      <td>134.589996</td>\n",
       "      <td>21473500</td>\n",
       "      <td>137.605717</td>\n",
       "      <td>137.460002</td>\n",
       "    </tr>\n",
       "    <tr>\n",
       "      <th>2023-09-21</th>\n",
       "      <td>132.389999</td>\n",
       "      <td>133.190002</td>\n",
       "      <td>131.089996</td>\n",
       "      <td>131.360001</td>\n",
       "      <td>131.360001</td>\n",
       "      <td>22042700</td>\n",
       "      <td>136.932859</td>\n",
       "      <td>134.926666</td>\n",
       "    </tr>\n",
       "    <tr>\n",
       "      <th>2023-09-22</th>\n",
       "      <td>131.679993</td>\n",
       "      <td>133.000000</td>\n",
       "      <td>130.509995</td>\n",
       "      <td>131.250000</td>\n",
       "      <td>131.250000</td>\n",
       "      <td>16124280</td>\n",
       "      <td>136.040002</td>\n",
       "      <td>132.399999</td>\n",
       "    </tr>\n",
       "  </tbody>\n",
       "</table>\n",
       "<p>209 rows × 8 columns</p>\n",
       "</div>"
      ],
      "text/plain": [
       "                  Open        High         Low       Close   Adj Close  \\\n",
       "Date                                                                     \n",
       "2022-11-22   96.160004   97.547997   94.410004   97.330002   97.330002   \n",
       "2022-11-23   97.339996   99.069000   97.339996   98.820000   98.820000   \n",
       "2022-11-25   98.464996   98.940002   97.529999   97.599998   97.599998   \n",
       "2022-11-28   97.199997   97.830002   95.889999   96.250000   96.250000   \n",
       "2022-11-29   96.000000   96.389999   94.389999   95.440002   95.440002   \n",
       "...                ...         ...         ...         ...         ...   \n",
       "2023-09-18  137.630005  139.929993  137.630005  138.960007  138.960007   \n",
       "2023-09-19  138.250000  139.175003  137.500000  138.830002  138.830002   \n",
       "2023-09-20  138.830002  138.839996  134.520004  134.589996  134.589996   \n",
       "2023-09-21  132.389999  133.190002  131.089996  131.360001  131.360001   \n",
       "2023-09-22  131.679993  133.000000  130.509995  131.250000  131.250000   \n",
       "\n",
       "              Volume  Close_sev_movavg  Close_three_movavg  \n",
       "Date                                                        \n",
       "2022-11-22  18868900         97.600001           96.986669  \n",
       "2022-11-23  17568900         97.998572           97.326668  \n",
       "2022-11-25   8567800         97.838572           97.916667  \n",
       "2022-11-28  19974500         97.447144           97.556666  \n",
       "2022-11-29  20220000         97.010001           96.430000  \n",
       "...              ...               ...                 ...  \n",
       "2023-09-18  16233600        137.822861          138.750005  \n",
       "2023-09-19  15479100        138.055718          138.696671  \n",
       "2023-09-20  21473500        137.605717          137.460002  \n",
       "2023-09-21  22042700        136.932859          134.926666  \n",
       "2023-09-22  16124280        136.040002          132.399999  \n",
       "\n",
       "[209 rows x 8 columns]"
      ]
     },
     "execution_count": 129,
     "metadata": {},
     "output_type": "execute_result"
    }
   ],
   "source": [
    "goog"
   ]
  },
  {
   "cell_type": "code",
   "execution_count": 130,
   "id": "99768327-dd3a-4df6-b3c0-a1da86be92e9",
   "metadata": {},
   "outputs": [
    {
     "data": {
      "text/plain": [
       "209"
      ]
     },
     "execution_count": 130,
     "metadata": {},
     "output_type": "execute_result"
    }
   ],
   "source": [
    "goog['Close'].size"
   ]
  },
  {
   "cell_type": "code",
   "execution_count": 132,
   "id": "768aa4ae-cb6e-42d5-8e23-d711b6c76149",
   "metadata": {},
   "outputs": [
    {
     "data": {
      "text/plain": [
       "209"
      ]
     },
     "execution_count": 132,
     "metadata": {},
     "output_type": "execute_result"
    }
   ],
   "source": [
    "goog['Close_sev_movavg'].size"
   ]
  },
  {
   "cell_type": "code",
   "execution_count": 133,
   "id": "142090c9-36fb-43b8-b7f4-b883e567c1e4",
   "metadata": {},
   "outputs": [
    {
     "data": {
      "text/plain": [
       "209"
      ]
     },
     "execution_count": 133,
     "metadata": {},
     "output_type": "execute_result"
    }
   ],
   "source": [
    "goog['Close_three_movavg'].size"
   ]
  },
  {
   "cell_type": "code",
   "execution_count": 134,
   "id": "e4437347-965b-4737-9231-69408d10e079",
   "metadata": {},
   "outputs": [],
   "source": [
    "train, test = train_test_split(goog, test_size=0.2)"
   ]
  },
  {
   "cell_type": "code",
   "execution_count": 136,
   "id": "235320e3-047c-4e13-8025-577b3d50a6cd",
   "metadata": {},
   "outputs": [
    {
     "data": {
      "text/html": [
       "<style>#sk-container-id-2 {color: black;}#sk-container-id-2 pre{padding: 0;}#sk-container-id-2 div.sk-toggleable {background-color: white;}#sk-container-id-2 label.sk-toggleable__label {cursor: pointer;display: block;width: 100%;margin-bottom: 0;padding: 0.3em;box-sizing: border-box;text-align: center;}#sk-container-id-2 label.sk-toggleable__label-arrow:before {content: \"▸\";float: left;margin-right: 0.25em;color: #696969;}#sk-container-id-2 label.sk-toggleable__label-arrow:hover:before {color: black;}#sk-container-id-2 div.sk-estimator:hover label.sk-toggleable__label-arrow:before {color: black;}#sk-container-id-2 div.sk-toggleable__content {max-height: 0;max-width: 0;overflow: hidden;text-align: left;background-color: #f0f8ff;}#sk-container-id-2 div.sk-toggleable__content pre {margin: 0.2em;color: black;border-radius: 0.25em;background-color: #f0f8ff;}#sk-container-id-2 input.sk-toggleable__control:checked~div.sk-toggleable__content {max-height: 200px;max-width: 100%;overflow: auto;}#sk-container-id-2 input.sk-toggleable__control:checked~label.sk-toggleable__label-arrow:before {content: \"▾\";}#sk-container-id-2 div.sk-estimator input.sk-toggleable__control:checked~label.sk-toggleable__label {background-color: #d4ebff;}#sk-container-id-2 div.sk-label input.sk-toggleable__control:checked~label.sk-toggleable__label {background-color: #d4ebff;}#sk-container-id-2 input.sk-hidden--visually {border: 0;clip: rect(1px 1px 1px 1px);clip: rect(1px, 1px, 1px, 1px);height: 1px;margin: -1px;overflow: hidden;padding: 0;position: absolute;width: 1px;}#sk-container-id-2 div.sk-estimator {font-family: monospace;background-color: #f0f8ff;border: 1px dotted black;border-radius: 0.25em;box-sizing: border-box;margin-bottom: 0.5em;}#sk-container-id-2 div.sk-estimator:hover {background-color: #d4ebff;}#sk-container-id-2 div.sk-parallel-item::after {content: \"\";width: 100%;border-bottom: 1px solid gray;flex-grow: 1;}#sk-container-id-2 div.sk-label:hover label.sk-toggleable__label {background-color: #d4ebff;}#sk-container-id-2 div.sk-serial::before {content: \"\";position: absolute;border-left: 1px solid gray;box-sizing: border-box;top: 0;bottom: 0;left: 50%;z-index: 0;}#sk-container-id-2 div.sk-serial {display: flex;flex-direction: column;align-items: center;background-color: white;padding-right: 0.2em;padding-left: 0.2em;position: relative;}#sk-container-id-2 div.sk-item {position: relative;z-index: 1;}#sk-container-id-2 div.sk-parallel {display: flex;align-items: stretch;justify-content: center;background-color: white;position: relative;}#sk-container-id-2 div.sk-item::before, #sk-container-id-2 div.sk-parallel-item::before {content: \"\";position: absolute;border-left: 1px solid gray;box-sizing: border-box;top: 0;bottom: 0;left: 50%;z-index: -1;}#sk-container-id-2 div.sk-parallel-item {display: flex;flex-direction: column;z-index: 1;position: relative;background-color: white;}#sk-container-id-2 div.sk-parallel-item:first-child::after {align-self: flex-end;width: 50%;}#sk-container-id-2 div.sk-parallel-item:last-child::after {align-self: flex-start;width: 50%;}#sk-container-id-2 div.sk-parallel-item:only-child::after {width: 0;}#sk-container-id-2 div.sk-dashed-wrapped {border: 1px dashed gray;margin: 0 0.4em 0.5em 0.4em;box-sizing: border-box;padding-bottom: 0.4em;background-color: white;}#sk-container-id-2 div.sk-label label {font-family: monospace;font-weight: bold;display: inline-block;line-height: 1.2em;}#sk-container-id-2 div.sk-label-container {text-align: center;}#sk-container-id-2 div.sk-container {/* jupyter's `normalize.less` sets `[hidden] { display: none; }` but bootstrap.min.css set `[hidden] { display: none !important; }` so we also need the `!important` here to be able to override the default hidden behavior on the sphinx rendered scikit-learn.org. See: https://github.com/scikit-learn/scikit-learn/issues/21755 */display: inline-block !important;position: relative;}#sk-container-id-2 div.sk-text-repr-fallback {display: none;}</style><div id=\"sk-container-id-2\" class=\"sk-top-container\"><div class=\"sk-text-repr-fallback\"><pre>LinearRegression()</pre><b>In a Jupyter environment, please rerun this cell to show the HTML representation or trust the notebook. <br />On GitHub, the HTML representation is unable to render, please try loading this page with nbviewer.org.</b></div><div class=\"sk-container\" hidden><div class=\"sk-item\"><div class=\"sk-estimator sk-toggleable\"><input class=\"sk-toggleable__control sk-hidden--visually\" id=\"sk-estimator-id-2\" type=\"checkbox\" checked><label for=\"sk-estimator-id-2\" class=\"sk-toggleable__label sk-toggleable__label-arrow\">LinearRegression</label><div class=\"sk-toggleable__content\"><pre>LinearRegression()</pre></div></div></div></div></div>"
      ],
      "text/plain": [
       "LinearRegression()"
      ]
     },
     "execution_count": 136,
     "metadata": {},
     "output_type": "execute_result"
    }
   ],
   "source": [
    "from sklearn.linear_model import LinearRegression\n",
    "model = LinearRegression()\n",
    "model.fit(train[['Close_sev_movavg', 'Close_three_movavg']], train['Close'])"
   ]
  },
  {
   "cell_type": "code",
   "execution_count": 137,
   "id": "1878eeda-0b69-41d2-a3f3-3710ebe7a82e",
   "metadata": {},
   "outputs": [],
   "source": [
    "predicitons = model.predict(test[['Close_sev_movavg', 'Close_three_movavg']])"
   ]
  },
  {
   "cell_type": "code",
   "execution_count": 138,
   "id": "3e2b5d28-24a4-4fed-b79a-5ea671a9b33e",
   "metadata": {},
   "outputs": [
    {
     "data": {
      "text/plain": [
       "3.729806726498181"
      ]
     },
     "execution_count": 138,
     "metadata": {},
     "output_type": "execute_result"
    }
   ],
   "source": [
    "mse = mean_squared_error(test['Close'], predicitons)\n",
    "mse"
   ]
  },
  {
   "cell_type": "code",
   "execution_count": 139,
   "id": "65f24843-6f2f-4fcd-b308-1aaecd15aeeb",
   "metadata": {},
   "outputs": [
    {
     "data": {
      "text/plain": [
       "<Axes: xlabel='Date'>"
      ]
     },
     "execution_count": 139,
     "metadata": {},
     "output_type": "execute_result"
    },
    {
     "data": {
      "image/png": "[encoded data removed]",
      "text/plain": [
       "<Figure size 640x480 with 1 Axes>"
      ]
     },
     "metadata": {},
     "output_type": "display_data"
    }
   ],
   "source": [
    "test['Close'].plot()"
   ]
  },
  {
   "cell_type": "code",
   "execution_count": 140,
   "id": "56d3e1f4-5685-4494-9977-de91a38e410c",
   "metadata": {},
   "outputs": [],
   "source": [
    "pred = pd.Series(predicitons, name= 'Closing_predictions')"
   ]
  },
  {
   "cell_type": "code",
   "execution_count": 141,
   "id": "b266d46c-688f-4030-9e0f-3246fa8804fd",
   "metadata": {},
   "outputs": [
    {
     "data": {
      "text/plain": [
       "<Axes: >"
      ]
     },
     "execution_count": 141,
     "metadata": {},
     "output_type": "execute_result"
    },
    {
     "data": {
      "image/png": "[encoded data removed]",
      "text/plain": [
       "<Figure size 640x480 with 1 Axes>"
      ]
     },
     "metadata": {},
     "output_type": "display_data"
    }
   ],
   "source": [
    "pred.plot()"
   ]
  },
  {
   "cell_type": "code",
   "execution_count": 153,
   "id": "ea5fa933-5228-42b1-8aa0-9b02a5e6b94f",
   "metadata": {},
   "outputs": [],
   "source": [
    "test.reset_index(inplace=True)"
   ]
  },
  {
   "cell_type": "code",
   "execution_count": 157,
   "id": "1c733c9d-a658-4c27-87cc-be6b55b2cfb5",
   "metadata": {},
   "outputs": [
    {
     "data": {
      "text/plain": [
       "<Axes: xlabel='Date'>"
      ]
     },
     "execution_count": 157,
     "metadata": {},
     "output_type": "execute_result"
    },
    {
     "data": {
      "image/png": "[encoded data removed]",
      "text/plain": [
       "<Figure size 640x480 with 1 Axes>"
      ]
     },
     "metadata": {},
     "output_type": "display_data"
    }
   ],
   "source": [
    "df = test.merge(pred, left_index=True, right_index=True)\n",
    "df.set_index(\"Date\")[['Close','Closing_predictions']].plot()"
   ]
  },
  {
   "cell_type": "code",
   "execution_count": 158,
   "id": "523ee61b-5633-4e54-8c77-17448f34c5a2",
   "metadata": {},
   "outputs": [
    {
     "data": {
      "text/plain": [
       "-0.07769467480659589"
      ]
     },
     "execution_count": 158,
     "metadata": {},
     "output_type": "execute_result"
    }
   ],
   "source": [
    "(test['Close'] - pred).mean()"
   ]
  },
  {
   "cell_type": "markdown",
   "id": "2d22b875-f4fd-420e-9ba0-a46962c95956",
   "metadata": {},
   "source": [
    "hence the predictions generated by the model is defelected by -0.07 on an average to the original Closing prices."
   ]
  },
  {
   "cell_type": "code",
   "execution_count": null,
   "id": "eaf466e7-3c27-4f2e-80cf-7ad3e3cc06dc",
   "metadata": {},
   "outputs": [],
   "source": []
  }
 ],
 "metadata": {
  "kernelspec": {
   "display_name": "Python 3 (ipykernel)",
   "language": "python",
   "name": "python3"
  },
  "language_info": {
   "codemirror_mode": {
    "name": "ipython",
    "version": 3
   },
   "file_extension": ".py",
   "mimetype": "text/x-python",
   "name": "python",
   "nbconvert_exporter": "python",
   "pygments_lexer": "ipython3",
   "version": "3.10.0"
  }
 },
 "nbformat": 4,
 "nbformat_minor": 5
}
